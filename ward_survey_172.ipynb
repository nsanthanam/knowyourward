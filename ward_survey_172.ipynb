{
 "cells": [
  {
   "cell_type": "code",
   "execution_count": 1,
   "metadata": {},
   "outputs": [],
   "source": [
    "%matplotlib inline\n",
    "import pandas as pd\n",
    "import seaborn as sns\n",
    "import matplotlib.pyplot as plt\n",
    "from textwrap import wrap"
   ]
  },
  {
   "cell_type": "code",
   "execution_count": 2,
   "metadata": {},
   "outputs": [],
   "source": [
    "plt.rcParams.update({'font.size': 22})"
   ]
  },
  {
   "cell_type": "code",
   "execution_count": 3,
   "metadata": {},
   "outputs": [],
   "source": [
    "def plot_column(data=None, col=None, ward=''):\n",
    "    col2 = ' \\n'.join(wrap(col, 60))\n",
    "    data['dummy'] = [1]*data.shape[0]\n",
    "    with plt.style.context('bmh'):\n",
    "        plt.figure(figsize=(20, 14))\n",
    "        g = sns.barplot(x=col, y='dummy', data=data, estimator=lambda x: len(x)*100.0 / len(data))\n",
    "        g.set_xticklabels(g.get_xticklabels(), rotation=45, fontsize=16)\n",
    "        plt.ylabel(col2 + '(%)', fontsize=22)\n",
    "        plt.title('Ward '+ward, fontsize=22)"
   ]
  },
  {
   "cell_type": "code",
   "execution_count": 4,
   "metadata": {},
   "outputs": [],
   "source": [
    "def get_ward_data(survey=None, ward_number=None):\n",
    "    ward_survey = survey[survey['Ward Number'] == ward_number]\n",
    "    return ward_survey"
   ]
  },
  {
   "cell_type": "code",
   "execution_count": 5,
   "metadata": {},
   "outputs": [],
   "source": [
    "eng_survey = pd.read_excel('SURVEY- KNOW OUR WARD (Responses)    November 1 2017_english.xlsx')"
   ]
  },
  {
   "cell_type": "code",
   "execution_count": 6,
   "metadata": {},
   "outputs": [
    {
     "data": {
      "text/plain": [
       "181                 53\n",
       "175                 44\n",
       "177                 23\n",
       "176                 21\n",
       "182                 17\n",
       "172                  8\n",
       "180                  4\n",
       "179                  4\n",
       "173                  3\n",
       "zone 9               3\n",
       "178                  2\n",
       "Do not know          2\n",
       "171                  2\n",
       "170                  2\n",
       "75                   1\n",
       "174                  1\n",
       "zone 15              1\n",
       "zone 9, ward 123     1\n",
       "dtype: int64"
      ]
     },
     "execution_count": 6,
     "metadata": {},
     "output_type": "execute_result"
    }
   ],
   "source": [
    "eng_survey['Ward Number'].value_counts()"
   ]
  },
  {
   "cell_type": "code",
   "execution_count": 7,
   "metadata": {},
   "outputs": [],
   "source": [
    "ward_172 = get_ward_data(survey=eng_survey, ward_number='172')"
   ]
  },
  {
   "cell_type": "code",
   "execution_count": 8,
   "metadata": {},
   "outputs": [
    {
     "data": {
      "text/plain": [
       "[(0, u'Timestamp'),\n",
       " (1, u'Email address'),\n",
       " (2, u'Score'),\n",
       " (3, u'Title'),\n",
       " (4, u'Name'),\n",
       " (5, u'Age'),\n",
       " (6, u'Gender'),\n",
       " (7, u'Occupation'),\n",
       " (8, u'Locality/Area Name'),\n",
       " (9, u'Street Name (with sub area) '),\n",
       " (10, u'Pincode'),\n",
       " (11, u'Phone Number'),\n",
       " (12, u'Ward Number'),\n",
       " (13, u'Do you know who your Councillor was? '),\n",
       " (14, u'Have you ever voted in a Council Election?'),\n",
       " (15, u'Do you know where your ward office is?'),\n",
       " (16, u'Do you know that the helpline for the Civic issues is 1913?'),\n",
       " (17, u'Do you know that the helpline for the EB issues is 1912?'),\n",
       " (18, u'Do you know that the helpline for Water supply is 28451300?'),\n",
       " (19, u'Do you know that the helpline for Traffic Control is 103?'),\n",
       " (20, u'Do you know that the helpline for Women Safety is 1091?'),\n",
       " (21, u'Do you know that the helpline for Children Safety is 1098?'),\n",
       " (22, u'Do you know that the helpline for Public Health is 108?'),\n",
       " (23,\n",
       "  u'Do you know that the helpline to call for Animal Welfare is 22300666?'),\n",
       " (24, u'Do you know Amma Call Centre for public grievances is 1100?'),\n",
       " (25,\n",
       "  u'Do you know Nirbhaya help line for women in distress is +91 9833312222?'),\n",
       " (26, u'Do you know how to contact the EB?'),\n",
       " (27,\n",
       "  u'Please rate these statements regarding Power Supply [Availability of uninterrupted power supply]'),\n",
       " (28,\n",
       "  u'Please rate these statements regarding Power Supply [Stable voltage without fluctuations always]'),\n",
       " (29,\n",
       "  u'Please rate these statements regarding Power Supply [There is immediate response to complaints]'),\n",
       " (30,\n",
       "  u'Please rate these statements regarding Power Supply [I am asked for a bribe for resolving complaints]'),\n",
       " (31,\n",
       "  u'Please rate these statements regarding Power Supply [Online bill payment is easy]'),\n",
       " (32,\n",
       "  u'Please rate these statements regarding Power Supply [Bill payment process is easy at the EB Office]'),\n",
       " (33,\n",
       "  u'Please rate these statements regarding Power Supply [Power cables are properly laid and safely maintained]'),\n",
       " (34,\n",
       "  u'Please rate these statements regarding Power Supply [Junction boxes are properly set and safely maintained]'),\n",
       " (35, u'Do you know who to call for streetlights?'),\n",
       " (36,\n",
       "  u'Please rate these statements regarding Street Lights. [Adequate street lights (in our street)]'),\n",
       " (37,\n",
       "  u'Please rate these statements regarding Street Lights. [Adequate street lights (in our area)]'),\n",
       " (38,\n",
       "  u'Please rate these statements regarding Street Lights. [Periodic maintenance is carried out]'),\n",
       " (39,\n",
       "  u'Please rate these statements regarding Street Lights. [There is immediate response to complaints]'),\n",
       " (40,\n",
       "  u'Please rate these statements regarding Street Lights. [I am asked for a bribe for resolving complaints]'),\n",
       " (41, u'Do you know who to call for road-related issues?'),\n",
       " (42,\n",
       "  u'Please rate these statements regarding Roads. [Roads are in good condition (in our street)]'),\n",
       " (43,\n",
       "  u'Please rate these statements regarding Roads. [Roads are in good condition (in our nearest main road)]'),\n",
       " (44,\n",
       "  u'Please rate these statements regarding Roads. [Periodic repairs on roads is done]'),\n",
       " (45,\n",
       "  u'Please rate these statements regarding Roads. [There is immediate response to complaints]'),\n",
       " (46,\n",
       "  u'Please rate these statements regarding Roads. [I am asked for a bribe for resolving complaints]'),\n",
       " (47,\n",
       "  u'Please rate these statements regarding Roads. [Roads are re-laid with proper milling (in our street)]'),\n",
       " (48,\n",
       "  u'Please rate these statements regarding Roads. [Roads re-laid with proper milling (in our nearest main road)]'),\n",
       " (49,\n",
       "  u'Please rate these statements regarding Roads. [Adequate parking spaces are available]'),\n",
       " (50, u'Do you know who to call for tree-related issues? '),\n",
       " (51,\n",
       "  u'Please rate these statements regarding Green Cover. [There are sufficient avenue trees (in our area)]'),\n",
       " (52,\n",
       "  u'Please rate these statements regarding Green Cover. [Periodic pruning of branches for health of tree is done]'),\n",
       " (53,\n",
       "  u'Please rate these statements regarding Green Cover. [Sufficient water seepage space around the tree is given]'),\n",
       " (54,\n",
       "  u'Please rate these statements regarding Green Cover. [Saplings are protected from vandals]'),\n",
       " (55, u'Does your street have storm water drains?'),\n",
       " (56, u'Does your area have storm water drains?'),\n",
       " (57, u'Is the sewage line linked to the storm water drain in your street?'),\n",
       " (58,\n",
       "  u'Please rate these statements regarding Storm Water Drains. [Periodic maintenance is done]'),\n",
       " (59,\n",
       "  u'Please rate these statements regarding Storm Water Drains. [There is immediate response to complaints]'),\n",
       " (60,\n",
       "  u'Please rate these statements regarding Storm Water Drains. [I am asked for a bribe for resolving complaints]'),\n",
       " (61, u'Do you know who you should call for pavement issue?'),\n",
       " (62,\n",
       "  u'Please rate these statements regarding Pavements. [There are well-laid pavements (in our street)]'),\n",
       " (63,\n",
       "  u'Please rate these statements regarding Pavements. [There are well-laid pavements (in our nearest main road)]'),\n",
       " (64,\n",
       "  u'Please rate these statements regarding Pavements. [Periodic maintenance on pavements is carried out]'),\n",
       " (65,\n",
       "  u'Please rate these statements regarding Pavements. [There are parking encroachments on pavements]'),\n",
       " (66,\n",
       "  u'Please rate these statements regarding Pavements. [There are other encroachments on pavements]'),\n",
       " (67, u'Are you aware of the traffic helpline?'),\n",
       " (68,\n",
       "  u'Please rate these statements regarding Traffic. [Signals are available at important junctions]'),\n",
       " (69,\n",
       "  u'Please rate these statements regarding Traffic. [Signals are in good working condition]'),\n",
       " (70,\n",
       "  u'Please rate these statements regarding Traffic. [Road signs and zebra crossings are provided]'),\n",
       " (71,\n",
       "  u'Please rate these statements regarding Traffic. [Signals are disability friendly]'),\n",
       " (72,\n",
       "  u'Please rate these statements regarding Traffic. [Speed breakers are available at appropriate places]'),\n",
       " (73,\n",
       "  u'Please rate these statements regarding Traffic. [Speed breaker (height and width) are as per regulations]'),\n",
       " (74, u'Are you aware of the safety helpline?'),\n",
       " (75, u'Is there a police booth in your area?'),\n",
       " (76,\n",
       "  u'Please rate these statements regarding Public Safety. [There is periodic and responsive police patrolling]'),\n",
       " (77,\n",
       "  u'Please rate these statements regarding Public Safety. [There is safety of property/material (no thefts) [in our street]]'),\n",
       " (78,\n",
       "  u'Please rate these statements regarding Public Safety. [There is safety of property/material (no thefts) [in our area]]'),\n",
       " (79,\n",
       "  u'Please rate these statements regarding Public Safety. [The area police booth is staffed adequately]'),\n",
       " (80,\n",
       "  u'Please rate these statements regarding Public Safety. [The policemen at the booth are accessible and responsive]'),\n",
       " (81, u'Do you have a Metro Water connection for your home?'),\n",
       " (82,\n",
       "  u'Do you get water supply via tankers when the Metro Water supply fails?'),\n",
       " (83, u'What is the average time spent every day to collect water?'),\n",
       " (84, u'What is the average money you spend every day for water?'),\n",
       " (85,\n",
       "  u'Please rate these statements regarding Water. [There is uninterrupted supply of water via pipe or hand pumps]'),\n",
       " (86,\n",
       "  u'Please rate these statements regarding Water. [Quality of water supplied is good]'),\n",
       " (87, u'Do you know what the sewage issues helpline is?'),\n",
       " (88,\n",
       "  u'Please rate these statements regarding Sewage. [Sewage lines are well-laid with no leaks]'),\n",
       " (89,\n",
       "  u'Please rate these statements regarding Sewage. [Periodic maintenance is done by department]'),\n",
       " (90,\n",
       "  u'Please rate these statements regarding Sewage. [There is immediate response to complaints]'),\n",
       " (91,\n",
       "  u'Please rate these statements regarding Sewage. [I am asked for a bribe for resolving complaints]'),\n",
       " (92, u'Do you know where the Corporation School in your area is?'),\n",
       " (93, u'Is the mid-day meal scheme available?'),\n",
       " (94, u'Is the mid-day meal of good quality?'),\n",
       " (95, u'Are educational schemes executed well?'),\n",
       " (96, u'Are sanitary napkins distributed to high-school students?'),\n",
       " (97,\n",
       "  u'Please rate these statements regarding Education (Corporation). [Administration of school is good]'),\n",
       " (98,\n",
       "  u'Please rate these statements regarding Education (Corporation). [There is good infrastructure like tables, chairs, good toilets]'),\n",
       " (99,\n",
       "  u'Please rate these statements regarding Education (Corporation). [The quality of teaching is good]'),\n",
       " (100,\n",
       "  u'Please rate these statements regarding Education (Corporation). [Pass percentage in the board exams is good]'),\n",
       " (101,\n",
       "  u'Please rate these statements regarding Education (Corporation). [Adequate numbers of teachers is available]'),\n",
       " (102,\n",
       "  u'Please rate these statements regarding Education (Corporation). [Extracurricular activities are provided]'),\n",
       " (103,\n",
       "  u'Please rate these statements regarding Education (Corporation). [Sports facilities are provided]'),\n",
       " (104,\n",
       "  u'Please rate these statements regarding Education (Corporation). [Extra coaching (free) after school hours is good]'),\n",
       " (105, u'Do you know where the Balwadi in your area is?'),\n",
       " (106, u'Is the mid-day meal scheme available?.1'),\n",
       " (107, u'Is the mid-day meal of good quality?.1'),\n",
       " (108,\n",
       "  u'Please rate these statements regarding Education (Balwadi) [Children are well-cared for]'),\n",
       " (109,\n",
       "  u'Please rate these statements regarding Education (Balwadi) [Maintenance and cleanliness of Balwadi is good]'),\n",
       " (110,\n",
       "  u'Please rate these statements regarding Education (Balwadi) [Good infrastructure and toilet facilities for children are available]'),\n",
       " (111,\n",
       "  u'Please rate these statements regarding Education (Balwadi) [Staff are responsive and responsible]'),\n",
       " (112,\n",
       "  u'Please rate these statements regarding Education (Balwadi) [Adequate number of staff on duty are available]'),\n",
       " (113, u'Do you segregate garbage at home?'),\n",
       " (114, u'Is garbage segregation done at source in your area?'),\n",
       " (115, u'Should the corporation make segregation at source compulsory?'),\n",
       " (116, u'Do you require training in garbage segregation?'),\n",
       " (117,\n",
       "  u'Please rate these statements regarding Solid Waste. [Sufficient bins are available (in our street)]'),\n",
       " (118,\n",
       "  u'Please rate these statements regarding Solid Waste. [Periodic clearing is done]'),\n",
       " (119,\n",
       "  u'Please rate these statements regarding Solid Waste. [Periodic street sweeping is done]'),\n",
       " (120,\n",
       "  u'Please rate these statements regarding Solid Waste. [Door-to-door collection of segregated garbage is done]'),\n",
       " (121,\n",
       "  u'Please rate these statements regarding Solid Waste. [There is immediate response to complaints]'),\n",
       " (122,\n",
       "  u'Please rate these statements regarding Solid Waste. [I am asked for a bribe for resolving complaints]'),\n",
       " (123, u'Is a public health centre/hospital available in your ward?'),\n",
       " (124,\n",
       "  u'Please rate these statements regarding Public Health Centres. [Facilities (doctors, nurses, medicines, equipment) are available]'),\n",
       " (125,\n",
       "  u'Please rate these statements regarding Public Health Centres. [Facilities (doctors, nurses, medicines, equipment) are good]'),\n",
       " (126,\n",
       "  u'Please rate these statements regarding Public Health Centres. [Health centre/hospital is hygienic and clean]'),\n",
       " (127,\n",
       "  u'Please rate these statements regarding Public Health Centres. [Staff are responsive and responsible]'),\n",
       " (128,\n",
       "  u'Please rate these statements regarding Public Health Centres. [I am asked for a bribe for resolving complaints]'),\n",
       " (129,\n",
       "  u'Please rate these statements regarding Public Health & Hygiene. [There is mosquito menace in our area]'),\n",
       " (130,\n",
       "  u'Please rate these statements regarding Public Health & Hygiene. [Periodic fumigation is done]'),\n",
       " (131,\n",
       "  u'Please rate these statements regarding Public Health & Hygiene. [Periodic visits are done by health department to prevent outbreak of diseases like cholera, malaria, dengue, etc]'),\n",
       " (132, u'Name the structure/structures in your area (if any):'),\n",
       " (133,\n",
       "  u'Please rate these statements regarding Heritage Buildings. [Restoration is done]'),\n",
       " (134,\n",
       "  u'Please rate these statements regarding Heritage Buildings. [Periodic maintenance is done]'),\n",
       " (135,\n",
       "  u'Please rate these statements regarding Heritage Buildings. [Structure is protected against public misuse (defacement, garbage dumping)]'),\n",
       " (136, u'List the natural resources in your area:'),\n",
       " (137,\n",
       "  u'Please rate these statements regarding Natural Resources. [Maintenance \\u2013 desilting, cleaning, etc. is done]'),\n",
       " (138,\n",
       "  u'Please rate these statements regarding Natural Resources. [Resource is protected against public misuse by a regulation (defacement, garbage dumping)]'),\n",
       " (139, u'Do you know if your area is commercial/residential?'),\n",
       " (140,\n",
       "  u'Please rate these statements regarding Commercialization. [There are unauthorised establishments]'),\n",
       " (141,\n",
       "  u'Please rate these statements regarding Commercialization. [There are building violations (in our street)]'),\n",
       " (142,\n",
       "  u'Please rate these statements regarding Commercialization. [There are building violations (in our nearest main road)]'),\n",
       " (143, u'Do you have parks in your area?'),\n",
       " (144, u'Do you have playgrounds in your area?'),\n",
       " (145,\n",
       "  u'Please rate these statements regarding Parks & Playgrounds. [Parks and playgrounds are well-maintained (in our area)]'),\n",
       " (146,\n",
       "  u'Please rate these statements regarding Parks & Playgrounds. [These public spaces are misused]'),\n",
       " (147,\n",
       "  u'Please rate these statements regarding Parks & Playgrounds. [These public spaces are safe]'),\n",
       " (148, u'Do you have public toilets in your area?'),\n",
       " (149,\n",
       "  u'Please rate these statements regarding Public Toilets. [Public toilets are well-maintained (in our area)]'),\n",
       " (150,\n",
       "  u'Please rate these statements regarding Public Toilets. [E-toilets are available (in our area)]'),\n",
       " (151,\n",
       "  u'Please rate these statements regarding Public Toilets. [The e-toilets are well-maintained]'),\n",
       " (152, u'Is there a corporation-run animal shelter/dispensary in your area?'),\n",
       " (153,\n",
       "  u'Please rate these statements regarding Animal Welfare. [There is stray dog menace (in our area)]'),\n",
       " (154,\n",
       "  u'Please rate these statements regarding Animal Welfare. [Vaccination drives for dogs and cats take place in my area]'),\n",
       " (155,\n",
       "  u'Please rate these statements regarding Animal Welfare. [Sterilisation drives for cats and dogs take place in my area]'),\n",
       " (156, u'Do you know where your corporation zonal office is?'),\n",
       " (157,\n",
       "  u'Please rate these statements regarding the Zonal Office. [Availability of information at office is good]'),\n",
       " (158,\n",
       "  u'Please rate these statements regarding the Zonal Office. [Officers and staff are accessible to public]'),\n",
       " (159,\n",
       "  u'Please rate these statements regarding the Zonal Office. [Responsiveness of officers and staff is good]'),\n",
       " (160, u'Any other feedback/comments:')]"
      ]
     },
     "execution_count": 8,
     "metadata": {},
     "output_type": "execute_result"
    }
   ],
   "source": [
    "zip(range(0, len(ward_172.columns.tolist())), ward_172.columns.tolist())"
   ]
  },
  {
   "cell_type": "code",
   "execution_count": 9,
   "metadata": {},
   "outputs": [
    {
     "ename": "ValueError",
     "evalue": "min() arg is an empty sequence",
     "output_type": "error",
     "traceback": [
      "\u001b[0;31m---------------------------------------------------------------------------\u001b[0m",
      "\u001b[0;31mValueError\u001b[0m                                Traceback (most recent call last)",
      "\u001b[0;32m<ipython-input-9-5974ac9e395b>\u001b[0m in \u001b[0;36m<module>\u001b[0;34m()\u001b[0m\n\u001b[0;32m----> 1\u001b[0;31m \u001b[0mplot_column\u001b[0m\u001b[0;34m(\u001b[0m\u001b[0mcol\u001b[0m\u001b[0;34m=\u001b[0m\u001b[0;34mu'Gender'\u001b[0m\u001b[0;34m,\u001b[0m \u001b[0mdata\u001b[0m\u001b[0;34m=\u001b[0m\u001b[0mward_172\u001b[0m\u001b[0;34m,\u001b[0m \u001b[0mward\u001b[0m\u001b[0;34m=\u001b[0m\u001b[0;34m'172'\u001b[0m\u001b[0;34m)\u001b[0m\u001b[0;34m\u001b[0m\u001b[0m\n\u001b[0m",
      "\u001b[0;32m<ipython-input-3-f1f66a23a90e>\u001b[0m in \u001b[0;36mplot_column\u001b[0;34m(data, col, ward)\u001b[0m\n\u001b[1;32m      4\u001b[0m     \u001b[0;32mwith\u001b[0m \u001b[0mplt\u001b[0m\u001b[0;34m.\u001b[0m\u001b[0mstyle\u001b[0m\u001b[0;34m.\u001b[0m\u001b[0mcontext\u001b[0m\u001b[0;34m(\u001b[0m\u001b[0;34m'bmh'\u001b[0m\u001b[0;34m)\u001b[0m\u001b[0;34m:\u001b[0m\u001b[0;34m\u001b[0m\u001b[0m\n\u001b[1;32m      5\u001b[0m         \u001b[0mplt\u001b[0m\u001b[0;34m.\u001b[0m\u001b[0mfigure\u001b[0m\u001b[0;34m(\u001b[0m\u001b[0mfigsize\u001b[0m\u001b[0;34m=\u001b[0m\u001b[0;34m(\u001b[0m\u001b[0;36m20\u001b[0m\u001b[0;34m,\u001b[0m \u001b[0;36m14\u001b[0m\u001b[0;34m)\u001b[0m\u001b[0;34m)\u001b[0m\u001b[0;34m\u001b[0m\u001b[0m\n\u001b[0;32m----> 6\u001b[0;31m         \u001b[0mg\u001b[0m \u001b[0;34m=\u001b[0m \u001b[0msns\u001b[0m\u001b[0;34m.\u001b[0m\u001b[0mbarplot\u001b[0m\u001b[0;34m(\u001b[0m\u001b[0mx\u001b[0m\u001b[0;34m=\u001b[0m\u001b[0mcol\u001b[0m\u001b[0;34m,\u001b[0m \u001b[0my\u001b[0m\u001b[0;34m=\u001b[0m\u001b[0;34m'dummy'\u001b[0m\u001b[0;34m,\u001b[0m \u001b[0mdata\u001b[0m\u001b[0;34m=\u001b[0m\u001b[0mdata\u001b[0m\u001b[0;34m,\u001b[0m \u001b[0mestimator\u001b[0m\u001b[0;34m=\u001b[0m\u001b[0;32mlambda\u001b[0m \u001b[0mx\u001b[0m\u001b[0;34m:\u001b[0m \u001b[0mlen\u001b[0m\u001b[0;34m(\u001b[0m\u001b[0mx\u001b[0m\u001b[0;34m)\u001b[0m\u001b[0;34m*\u001b[0m\u001b[0;36m100.0\u001b[0m \u001b[0;34m/\u001b[0m \u001b[0mlen\u001b[0m\u001b[0;34m(\u001b[0m\u001b[0mdata\u001b[0m\u001b[0;34m)\u001b[0m\u001b[0;34m)\u001b[0m\u001b[0;34m\u001b[0m\u001b[0m\n\u001b[0m\u001b[1;32m      7\u001b[0m         \u001b[0mg\u001b[0m\u001b[0;34m.\u001b[0m\u001b[0mset_xticklabels\u001b[0m\u001b[0;34m(\u001b[0m\u001b[0mg\u001b[0m\u001b[0;34m.\u001b[0m\u001b[0mget_xticklabels\u001b[0m\u001b[0;34m(\u001b[0m\u001b[0;34m)\u001b[0m\u001b[0;34m,\u001b[0m \u001b[0mrotation\u001b[0m\u001b[0;34m=\u001b[0m\u001b[0;36m45\u001b[0m\u001b[0;34m,\u001b[0m \u001b[0mfontsize\u001b[0m\u001b[0;34m=\u001b[0m\u001b[0;36m16\u001b[0m\u001b[0;34m)\u001b[0m\u001b[0;34m\u001b[0m\u001b[0m\n\u001b[1;32m      8\u001b[0m         \u001b[0mplt\u001b[0m\u001b[0;34m.\u001b[0m\u001b[0mylabel\u001b[0m\u001b[0;34m(\u001b[0m\u001b[0mcol2\u001b[0m \u001b[0;34m+\u001b[0m \u001b[0;34m'(%)'\u001b[0m\u001b[0;34m,\u001b[0m \u001b[0mfontsize\u001b[0m\u001b[0;34m=\u001b[0m\u001b[0;36m22\u001b[0m\u001b[0;34m)\u001b[0m\u001b[0;34m\u001b[0m\u001b[0m\n",
      "\u001b[0;32m/usr/local/lib/python2.7/site-packages/seaborn/categorical.pyc\u001b[0m in \u001b[0;36mbarplot\u001b[0;34m(x, y, hue, data, order, hue_order, estimator, ci, n_boot, units, orient, color, palette, saturation, errcolor, errwidth, capsize, dodge, ax, **kwargs)\u001b[0m\n\u001b[1;32m   2957\u001b[0m                           \u001b[0mestimator\u001b[0m\u001b[0;34m,\u001b[0m \u001b[0mci\u001b[0m\u001b[0;34m,\u001b[0m \u001b[0mn_boot\u001b[0m\u001b[0;34m,\u001b[0m \u001b[0munits\u001b[0m\u001b[0;34m,\u001b[0m\u001b[0;34m\u001b[0m\u001b[0m\n\u001b[1;32m   2958\u001b[0m                           \u001b[0morient\u001b[0m\u001b[0;34m,\u001b[0m \u001b[0mcolor\u001b[0m\u001b[0;34m,\u001b[0m \u001b[0mpalette\u001b[0m\u001b[0;34m,\u001b[0m \u001b[0msaturation\u001b[0m\u001b[0;34m,\u001b[0m\u001b[0;34m\u001b[0m\u001b[0m\n\u001b[0;32m-> 2959\u001b[0;31m                           errcolor, errwidth, capsize, dodge)\n\u001b[0m\u001b[1;32m   2960\u001b[0m \u001b[0;34m\u001b[0m\u001b[0m\n\u001b[1;32m   2961\u001b[0m     \u001b[0;32mif\u001b[0m \u001b[0max\u001b[0m \u001b[0;32mis\u001b[0m \u001b[0mNone\u001b[0m\u001b[0;34m:\u001b[0m\u001b[0;34m\u001b[0m\u001b[0m\n",
      "\u001b[0;32m/usr/local/lib/python2.7/site-packages/seaborn/categorical.pyc\u001b[0m in \u001b[0;36m__init__\u001b[0;34m(self, x, y, hue, data, order, hue_order, estimator, ci, n_boot, units, orient, color, palette, saturation, errcolor, errwidth, capsize, dodge)\u001b[0m\n\u001b[1;32m   1595\u001b[0m         self.establish_variables(x, y, hue, data, orient,\n\u001b[1;32m   1596\u001b[0m                                  order, hue_order, units)\n\u001b[0;32m-> 1597\u001b[0;31m         \u001b[0mself\u001b[0m\u001b[0;34m.\u001b[0m\u001b[0mestablish_colors\u001b[0m\u001b[0;34m(\u001b[0m\u001b[0mcolor\u001b[0m\u001b[0;34m,\u001b[0m \u001b[0mpalette\u001b[0m\u001b[0;34m,\u001b[0m \u001b[0msaturation\u001b[0m\u001b[0;34m)\u001b[0m\u001b[0;34m\u001b[0m\u001b[0m\n\u001b[0m\u001b[1;32m   1598\u001b[0m         \u001b[0mself\u001b[0m\u001b[0;34m.\u001b[0m\u001b[0mestimate_statistic\u001b[0m\u001b[0;34m(\u001b[0m\u001b[0mestimator\u001b[0m\u001b[0;34m,\u001b[0m \u001b[0mci\u001b[0m\u001b[0;34m,\u001b[0m \u001b[0mn_boot\u001b[0m\u001b[0;34m)\u001b[0m\u001b[0;34m\u001b[0m\u001b[0m\n\u001b[1;32m   1599\u001b[0m \u001b[0;34m\u001b[0m\u001b[0m\n",
      "\u001b[0;32m/usr/local/lib/python2.7/site-packages/seaborn/categorical.pyc\u001b[0m in \u001b[0;36mestablish_colors\u001b[0;34m(self, color, palette, saturation)\u001b[0m\n\u001b[1;32m    309\u001b[0m         \u001b[0;31m# Determine the gray color to use for the lines framing the plot\u001b[0m\u001b[0;34m\u001b[0m\u001b[0;34m\u001b[0m\u001b[0m\n\u001b[1;32m    310\u001b[0m         \u001b[0mlight_vals\u001b[0m \u001b[0;34m=\u001b[0m \u001b[0;34m[\u001b[0m\u001b[0mcolorsys\u001b[0m\u001b[0;34m.\u001b[0m\u001b[0mrgb_to_hls\u001b[0m\u001b[0;34m(\u001b[0m\u001b[0;34m*\u001b[0m\u001b[0mc\u001b[0m\u001b[0;34m)\u001b[0m\u001b[0;34m[\u001b[0m\u001b[0;36m1\u001b[0m\u001b[0;34m]\u001b[0m \u001b[0;32mfor\u001b[0m \u001b[0mc\u001b[0m \u001b[0;32min\u001b[0m \u001b[0mrgb_colors\u001b[0m\u001b[0;34m]\u001b[0m\u001b[0;34m\u001b[0m\u001b[0m\n\u001b[0;32m--> 311\u001b[0;31m         \u001b[0ml\u001b[0m \u001b[0;34m=\u001b[0m \u001b[0mmin\u001b[0m\u001b[0;34m(\u001b[0m\u001b[0mlight_vals\u001b[0m\u001b[0;34m)\u001b[0m \u001b[0;34m*\u001b[0m \u001b[0;36m.6\u001b[0m\u001b[0;34m\u001b[0m\u001b[0m\n\u001b[0m\u001b[1;32m    312\u001b[0m         \u001b[0mgray\u001b[0m \u001b[0;34m=\u001b[0m \u001b[0mmpl\u001b[0m\u001b[0;34m.\u001b[0m\u001b[0mcolors\u001b[0m\u001b[0;34m.\u001b[0m\u001b[0mrgb2hex\u001b[0m\u001b[0;34m(\u001b[0m\u001b[0;34m(\u001b[0m\u001b[0ml\u001b[0m\u001b[0;34m,\u001b[0m \u001b[0ml\u001b[0m\u001b[0;34m,\u001b[0m \u001b[0ml\u001b[0m\u001b[0;34m)\u001b[0m\u001b[0;34m)\u001b[0m\u001b[0;34m\u001b[0m\u001b[0m\n\u001b[1;32m    313\u001b[0m \u001b[0;34m\u001b[0m\u001b[0m\n",
      "\u001b[0;31mValueError\u001b[0m: min() arg is an empty sequence"
     ]
    },
    {
     "data": {
      "text/plain": [
       "<matplotlib.figure.Figure at 0x11192fb50>"
      ]
     },
     "metadata": {},
     "output_type": "display_data"
    }
   ],
   "source": [
    "plot_column(col=u'Gender', data=ward_172, ward='172')"
   ]
  },
  {
   "cell_type": "code",
   "execution_count": 10,
   "metadata": {
    "scrolled": false
   },
   "outputs": [
    {
     "ename": "ValueError",
     "evalue": "min() arg is an empty sequence",
     "output_type": "error",
     "traceback": [
      "\u001b[0;31m---------------------------------------------------------------------------\u001b[0m",
      "\u001b[0;31mValueError\u001b[0m                                Traceback (most recent call last)",
      "\u001b[0;32m<ipython-input-10-7f543de9f397>\u001b[0m in \u001b[0;36m<module>\u001b[0;34m()\u001b[0m\n\u001b[1;32m      1\u001b[0m \u001b[0;32mfor\u001b[0m \u001b[0mcolname\u001b[0m \u001b[0;32min\u001b[0m \u001b[0mward_172\u001b[0m\u001b[0;34m.\u001b[0m\u001b[0mcolumns\u001b[0m\u001b[0;34m[\u001b[0m\u001b[0;36m13\u001b[0m\u001b[0;34m:\u001b[0m\u001b[0;36m100\u001b[0m\u001b[0;34m]\u001b[0m\u001b[0;34m:\u001b[0m\u001b[0;34m\u001b[0m\u001b[0m\n\u001b[0;32m----> 2\u001b[0;31m     \u001b[0mplot_column\u001b[0m\u001b[0;34m(\u001b[0m\u001b[0mcol\u001b[0m\u001b[0;34m=\u001b[0m\u001b[0mcolname\u001b[0m\u001b[0;34m,\u001b[0m \u001b[0mdata\u001b[0m\u001b[0;34m=\u001b[0m\u001b[0mward_172\u001b[0m\u001b[0;34m,\u001b[0m \u001b[0mward\u001b[0m\u001b[0;34m=\u001b[0m\u001b[0;34m'172'\u001b[0m\u001b[0;34m)\u001b[0m\u001b[0;34m\u001b[0m\u001b[0m\n\u001b[0m",
      "\u001b[0;32m<ipython-input-3-f1f66a23a90e>\u001b[0m in \u001b[0;36mplot_column\u001b[0;34m(data, col, ward)\u001b[0m\n\u001b[1;32m      4\u001b[0m     \u001b[0;32mwith\u001b[0m \u001b[0mplt\u001b[0m\u001b[0;34m.\u001b[0m\u001b[0mstyle\u001b[0m\u001b[0;34m.\u001b[0m\u001b[0mcontext\u001b[0m\u001b[0;34m(\u001b[0m\u001b[0;34m'bmh'\u001b[0m\u001b[0;34m)\u001b[0m\u001b[0;34m:\u001b[0m\u001b[0;34m\u001b[0m\u001b[0m\n\u001b[1;32m      5\u001b[0m         \u001b[0mplt\u001b[0m\u001b[0;34m.\u001b[0m\u001b[0mfigure\u001b[0m\u001b[0;34m(\u001b[0m\u001b[0mfigsize\u001b[0m\u001b[0;34m=\u001b[0m\u001b[0;34m(\u001b[0m\u001b[0;36m20\u001b[0m\u001b[0;34m,\u001b[0m \u001b[0;36m14\u001b[0m\u001b[0;34m)\u001b[0m\u001b[0;34m)\u001b[0m\u001b[0;34m\u001b[0m\u001b[0m\n\u001b[0;32m----> 6\u001b[0;31m         \u001b[0mg\u001b[0m \u001b[0;34m=\u001b[0m \u001b[0msns\u001b[0m\u001b[0;34m.\u001b[0m\u001b[0mbarplot\u001b[0m\u001b[0;34m(\u001b[0m\u001b[0mx\u001b[0m\u001b[0;34m=\u001b[0m\u001b[0mcol\u001b[0m\u001b[0;34m,\u001b[0m \u001b[0my\u001b[0m\u001b[0;34m=\u001b[0m\u001b[0;34m'dummy'\u001b[0m\u001b[0;34m,\u001b[0m \u001b[0mdata\u001b[0m\u001b[0;34m=\u001b[0m\u001b[0mdata\u001b[0m\u001b[0;34m,\u001b[0m \u001b[0mestimator\u001b[0m\u001b[0;34m=\u001b[0m\u001b[0;32mlambda\u001b[0m \u001b[0mx\u001b[0m\u001b[0;34m:\u001b[0m \u001b[0mlen\u001b[0m\u001b[0;34m(\u001b[0m\u001b[0mx\u001b[0m\u001b[0;34m)\u001b[0m\u001b[0;34m*\u001b[0m\u001b[0;36m100.0\u001b[0m \u001b[0;34m/\u001b[0m \u001b[0mlen\u001b[0m\u001b[0;34m(\u001b[0m\u001b[0mdata\u001b[0m\u001b[0;34m)\u001b[0m\u001b[0;34m)\u001b[0m\u001b[0;34m\u001b[0m\u001b[0m\n\u001b[0m\u001b[1;32m      7\u001b[0m         \u001b[0mg\u001b[0m\u001b[0;34m.\u001b[0m\u001b[0mset_xticklabels\u001b[0m\u001b[0;34m(\u001b[0m\u001b[0mg\u001b[0m\u001b[0;34m.\u001b[0m\u001b[0mget_xticklabels\u001b[0m\u001b[0;34m(\u001b[0m\u001b[0;34m)\u001b[0m\u001b[0;34m,\u001b[0m \u001b[0mrotation\u001b[0m\u001b[0;34m=\u001b[0m\u001b[0;36m45\u001b[0m\u001b[0;34m,\u001b[0m \u001b[0mfontsize\u001b[0m\u001b[0;34m=\u001b[0m\u001b[0;36m16\u001b[0m\u001b[0;34m)\u001b[0m\u001b[0;34m\u001b[0m\u001b[0m\n\u001b[1;32m      8\u001b[0m         \u001b[0mplt\u001b[0m\u001b[0;34m.\u001b[0m\u001b[0mylabel\u001b[0m\u001b[0;34m(\u001b[0m\u001b[0mcol2\u001b[0m \u001b[0;34m+\u001b[0m \u001b[0;34m'(%)'\u001b[0m\u001b[0;34m,\u001b[0m \u001b[0mfontsize\u001b[0m\u001b[0;34m=\u001b[0m\u001b[0;36m22\u001b[0m\u001b[0;34m)\u001b[0m\u001b[0;34m\u001b[0m\u001b[0m\n",
      "\u001b[0;32m/usr/local/lib/python2.7/site-packages/seaborn/categorical.pyc\u001b[0m in \u001b[0;36mbarplot\u001b[0;34m(x, y, hue, data, order, hue_order, estimator, ci, n_boot, units, orient, color, palette, saturation, errcolor, errwidth, capsize, dodge, ax, **kwargs)\u001b[0m\n\u001b[1;32m   2957\u001b[0m                           \u001b[0mestimator\u001b[0m\u001b[0;34m,\u001b[0m \u001b[0mci\u001b[0m\u001b[0;34m,\u001b[0m \u001b[0mn_boot\u001b[0m\u001b[0;34m,\u001b[0m \u001b[0munits\u001b[0m\u001b[0;34m,\u001b[0m\u001b[0;34m\u001b[0m\u001b[0m\n\u001b[1;32m   2958\u001b[0m                           \u001b[0morient\u001b[0m\u001b[0;34m,\u001b[0m \u001b[0mcolor\u001b[0m\u001b[0;34m,\u001b[0m \u001b[0mpalette\u001b[0m\u001b[0;34m,\u001b[0m \u001b[0msaturation\u001b[0m\u001b[0;34m,\u001b[0m\u001b[0;34m\u001b[0m\u001b[0m\n\u001b[0;32m-> 2959\u001b[0;31m                           errcolor, errwidth, capsize, dodge)\n\u001b[0m\u001b[1;32m   2960\u001b[0m \u001b[0;34m\u001b[0m\u001b[0m\n\u001b[1;32m   2961\u001b[0m     \u001b[0;32mif\u001b[0m \u001b[0max\u001b[0m \u001b[0;32mis\u001b[0m \u001b[0mNone\u001b[0m\u001b[0;34m:\u001b[0m\u001b[0;34m\u001b[0m\u001b[0m\n",
      "\u001b[0;32m/usr/local/lib/python2.7/site-packages/seaborn/categorical.pyc\u001b[0m in \u001b[0;36m__init__\u001b[0;34m(self, x, y, hue, data, order, hue_order, estimator, ci, n_boot, units, orient, color, palette, saturation, errcolor, errwidth, capsize, dodge)\u001b[0m\n\u001b[1;32m   1595\u001b[0m         self.establish_variables(x, y, hue, data, orient,\n\u001b[1;32m   1596\u001b[0m                                  order, hue_order, units)\n\u001b[0;32m-> 1597\u001b[0;31m         \u001b[0mself\u001b[0m\u001b[0;34m.\u001b[0m\u001b[0mestablish_colors\u001b[0m\u001b[0;34m(\u001b[0m\u001b[0mcolor\u001b[0m\u001b[0;34m,\u001b[0m \u001b[0mpalette\u001b[0m\u001b[0;34m,\u001b[0m \u001b[0msaturation\u001b[0m\u001b[0;34m)\u001b[0m\u001b[0;34m\u001b[0m\u001b[0m\n\u001b[0m\u001b[1;32m   1598\u001b[0m         \u001b[0mself\u001b[0m\u001b[0;34m.\u001b[0m\u001b[0mestimate_statistic\u001b[0m\u001b[0;34m(\u001b[0m\u001b[0mestimator\u001b[0m\u001b[0;34m,\u001b[0m \u001b[0mci\u001b[0m\u001b[0;34m,\u001b[0m \u001b[0mn_boot\u001b[0m\u001b[0;34m)\u001b[0m\u001b[0;34m\u001b[0m\u001b[0m\n\u001b[1;32m   1599\u001b[0m \u001b[0;34m\u001b[0m\u001b[0m\n",
      "\u001b[0;32m/usr/local/lib/python2.7/site-packages/seaborn/categorical.pyc\u001b[0m in \u001b[0;36mestablish_colors\u001b[0;34m(self, color, palette, saturation)\u001b[0m\n\u001b[1;32m    309\u001b[0m         \u001b[0;31m# Determine the gray color to use for the lines framing the plot\u001b[0m\u001b[0;34m\u001b[0m\u001b[0;34m\u001b[0m\u001b[0m\n\u001b[1;32m    310\u001b[0m         \u001b[0mlight_vals\u001b[0m \u001b[0;34m=\u001b[0m \u001b[0;34m[\u001b[0m\u001b[0mcolorsys\u001b[0m\u001b[0;34m.\u001b[0m\u001b[0mrgb_to_hls\u001b[0m\u001b[0;34m(\u001b[0m\u001b[0;34m*\u001b[0m\u001b[0mc\u001b[0m\u001b[0;34m)\u001b[0m\u001b[0;34m[\u001b[0m\u001b[0;36m1\u001b[0m\u001b[0;34m]\u001b[0m \u001b[0;32mfor\u001b[0m \u001b[0mc\u001b[0m \u001b[0;32min\u001b[0m \u001b[0mrgb_colors\u001b[0m\u001b[0;34m]\u001b[0m\u001b[0;34m\u001b[0m\u001b[0m\n\u001b[0;32m--> 311\u001b[0;31m         \u001b[0ml\u001b[0m \u001b[0;34m=\u001b[0m \u001b[0mmin\u001b[0m\u001b[0;34m(\u001b[0m\u001b[0mlight_vals\u001b[0m\u001b[0;34m)\u001b[0m \u001b[0;34m*\u001b[0m \u001b[0;36m.6\u001b[0m\u001b[0;34m\u001b[0m\u001b[0m\n\u001b[0m\u001b[1;32m    312\u001b[0m         \u001b[0mgray\u001b[0m \u001b[0;34m=\u001b[0m \u001b[0mmpl\u001b[0m\u001b[0;34m.\u001b[0m\u001b[0mcolors\u001b[0m\u001b[0;34m.\u001b[0m\u001b[0mrgb2hex\u001b[0m\u001b[0;34m(\u001b[0m\u001b[0;34m(\u001b[0m\u001b[0ml\u001b[0m\u001b[0;34m,\u001b[0m \u001b[0ml\u001b[0m\u001b[0;34m,\u001b[0m \u001b[0ml\u001b[0m\u001b[0;34m)\u001b[0m\u001b[0;34m)\u001b[0m\u001b[0;34m\u001b[0m\u001b[0m\n\u001b[1;32m    313\u001b[0m \u001b[0;34m\u001b[0m\u001b[0m\n",
      "\u001b[0;31mValueError\u001b[0m: min() arg is an empty sequence"
     ]
    },
    {
     "data": {
      "text/plain": [
       "<matplotlib.figure.Figure at 0x1119c3c90>"
      ]
     },
     "metadata": {},
     "output_type": "display_data"
    }
   ],
   "source": [
    "for colname in ward_172.columns[13:100]:\n",
    "    plot_column(col=colname, data=ward_172, ward='172')"
   ]
  },
  {
   "cell_type": "code",
   "execution_count": null,
   "metadata": {},
   "outputs": [],
   "source": []
  }
 ],
 "metadata": {
  "kernelspec": {
   "display_name": "Python 2",
   "language": "python",
   "name": "python2"
  },
  "language_info": {
   "codemirror_mode": {
    "name": "ipython",
    "version": 2
   },
   "file_extension": ".py",
   "mimetype": "text/x-python",
   "name": "python",
   "nbconvert_exporter": "python",
   "pygments_lexer": "ipython2",
   "version": "2.7.10"
  }
 },
 "nbformat": 4,
 "nbformat_minor": 1
}
